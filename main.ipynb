{
 "cells": [
  {
   "cell_type": "code",
   "execution_count": 13,
   "metadata": {},
   "outputs": [],
   "source": [
    "import pandas as pd\n"
   ]
  },
  {
   "cell_type": "code",
   "execution_count": 14,
   "metadata": {},
   "outputs": [],
   "source": [
    "# Replace 'farm_worker_data.csv' with the path to your CSV file\n",
    "df = pd.read_csv('data.csv')\n"
   ]
  },
  {
   "cell_type": "code",
   "execution_count": 15,
   "metadata": {},
   "outputs": [
    {
     "name": "stdout",
     "output_type": "stream",
     "text": [
      "   Worker_ID        Date Time_Start  Time_End Crop_Type  Base_Hourly_Wage  \\\n",
      "0          1  2023-01-15   08:00:00  16:00:00     Wheat              12.0   \n",
      "1          2  2023-01-15   09:00:00  17:00:00      Corn              11.5   \n",
      "2          3  2023-01-16   07:30:00  15:30:00  Soybeans              12.5   \n",
      "3          4  2023-01-16   08:00:00  17:00:00     Wheat              12.0   \n",
      "4          5  2023-01-17   08:30:00  16:30:00      Corn              11.5   \n",
      "\n",
      "   Supply_Demand_Ratio  Dynamic_Pricing_Multiplier  Total_Earnings  \n",
      "0                  1.2                       1.440          138.24  \n",
      "1                  1.3                       1.495          148.75  \n",
      "2                  1.1                       1.375          137.50  \n",
      "3                  1.2                       1.440          138.24  \n",
      "4                  1.5                       1.725          172.50  \n"
     ]
    }
   ],
   "source": [
    "# Display the first few rows of the DataFrame\n",
    "print(df.head())\n",
    "\n",
    "\n"
   ]
  },
  {
   "cell_type": "code",
   "execution_count": 17,
   "metadata": {},
   "outputs": [
    {
     "name": "stdout",
     "output_type": "stream",
     "text": [
      "Worker_ID                       int64\n",
      "Date                           object\n",
      "Time_Start                     object\n",
      "Time_End                       object\n",
      "Crop_Type                      object\n",
      "Base_Hourly_Wage              float64\n",
      "Supply_Demand_Ratio           float64\n",
      "Dynamic_Pricing_Multiplier    float64\n",
      "Total_Earnings                float64\n",
      "dtype: object\n"
     ]
    }
   ],
   "source": [
    "print(df.dtypes)"
   ]
  },
  {
   "cell_type": "code",
   "execution_count": 20,
   "metadata": {},
   "outputs": [
    {
     "name": "stdout",
     "output_type": "stream",
     "text": [
      "   Worker_ID        Date Time_Start  Time_End Crop_Type  Base_Hourly_Wage  \\\n",
      "0          1  2023-01-15   08:00:00  16:00:00     Wheat              12.0   \n",
      "1          2  2023-01-15   09:00:00  17:00:00      Corn              11.5   \n",
      "2          3  2023-01-16   07:30:00  15:30:00  Soybeans              12.5   \n",
      "3          4  2023-01-16   08:00:00  17:00:00     Wheat              12.0   \n",
      "4          5  2023-01-17   08:30:00  16:30:00      Corn              11.5   \n",
      "\n",
      "   Supply_Demand_Ratio  Dynamic_Pricing_Multiplier  Total_Earnings  \n",
      "0                  1.2                       1.440          138.24  \n",
      "1                  1.3                       1.495          148.75  \n",
      "2                  1.1                       1.375          137.50  \n",
      "3                  1.2                       1.440          138.24  \n",
      "4                  1.5                       1.725          172.50  \n"
     ]
    }
   ],
   "source": [
    "print(df.head())"
   ]
  },
  {
   "cell_type": "code",
   "execution_count": null,
   "metadata": {},
   "outputs": [],
   "source": []
  }
 ],
 "metadata": {
  "kernelspec": {
   "display_name": "env",
   "language": "python",
   "name": "python3"
  },
  "language_info": {
   "codemirror_mode": {
    "name": "ipython",
    "version": 3
   },
   "file_extension": ".py",
   "mimetype": "text/x-python",
   "name": "python",
   "nbconvert_exporter": "python",
   "pygments_lexer": "ipython3",
   "version": "3.10.5"
  },
  "orig_nbformat": 4
 },
 "nbformat": 4,
 "nbformat_minor": 2
}
